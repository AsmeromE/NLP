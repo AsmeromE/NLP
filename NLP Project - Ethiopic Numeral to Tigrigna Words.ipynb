{
 "cells": [
  {
   "cell_type": "code",
   "execution_count": 10,
   "id": "ae74792e-92b0-4e00-8b7a-9d7d10728a47",
   "metadata": {},
   "outputs": [
    {
     "name": "stdout",
     "output_type": "stream",
     "text": [
      "Ethiopic numeral: ፼፱፻፶፫፼፵፪፻፵፭፼፳፫፻፵፭\n",
      "English word: one trillion, ninety-five billion, three hundred and forty-two million, four hundred and fifty-two thousand, three hundred and forty-five\n",
      "Tigrigna word: ሓደ፣ትሪልየን፣ተስዓ፣ሓሙሽተ፣ቢልየን፣ሰልስተ፣ሚእቲ፣ኣርብዓ፣ክልተ፣ሚሊየን፣ኣርባዕተ፣ሚእቲ፣ሓምሳ፣ክልተ፣ሽህ፣ሰልስተ፣ሚእቲ፣ኣርብዓ፣ሓሙሽተ\n",
      "===========================================================================================\n",
      "Ethiopic numeral: ፼፳፫፻፵፭\n",
      "English word: twelve thousand, three hundred and forty-five\n",
      "Tigrigna word: ዓሰርተ ክልተ፣ሽህ፣ሰልስተ፣ሚእቲ፣ኣርብዓ፣ሓሙሽተ\n",
      "===========================================================================================\n",
      "Ethiopic numeral: ፵፭\n",
      "English word: forty-five\n",
      "Tigrigna word: ኣርብዓ፣ሓሙሽተ\n",
      "===========================================================================================\n",
      "Ethiopic numeral: ፻፼\n",
      "English word: one million\n",
      "Tigrigna word: ሓደ፣ሚሊየን\n",
      "===========================================================================================\n",
      "Ethiopic numeral: ፳፻፲፮\n",
      "English word: two thousand and sixteen\n",
      "Tigrigna word: ክልተ፣ሽህ፣ዓሰርተ ሽዱሽተ\n",
      "===========================================================================================\n"
     ]
    }
   ],
   "source": [
    "import re\n",
    "from num2words import num2words\n",
    "from nltk.tokenize import word_tokenize\n",
    "\n",
    "english_to_tigrigna_corpus = {\n",
    "    \"one\": \"ሓደ\", \"two\": \"ክልተ\", \"three\": \"ሰልስተ\", \"four\": \"ኣርባዕተ\", \"five\": \"ሓሙሽተ\",\"six\": \"ሽዱሽተ\", \"seven\": \"ሸውዓተ\", \n",
    "    \"eight\": \"ሸሞንተ\", \"nine\": \"ትሽዓተ\", \"ten\": \"ዓሰርተ\", \"eleven\": \"ዓሰርተ ሓደ\",\"twelve\": \"ዓሰርተ ክልተ\",\"thirteen\": \"ዓሰርተ ሰልስተ\",\n",
    "    \"fourteen\": \"ዓሰርተ ኣርባዕተ\", \"fifteen\": \"ዓሰርተ ሓሙሽተ\",\"sixteen\": \"ዓሰርተ ሽዱሽተ\", \"seventeen\": \"ዓሰርተ ሸውዓተ\",\n",
    "    \"eighteen\": \"ዓሰርተ ሸሞንተ\", \"nineteen\": \"ዓሰርተ ትሽዓተ\",\"twenty\": \"ዕስራ\", \"thirty\": \"ሰላሳ\", \"forty\": \"ኣርብዓ\",\n",
    "    \"fifty\": \"ሓምሳ\", \"sixty\": \"ሱሳ\", \"seventy\": \"ሰብዓ\",\"eighty\": \"ሰማንያ\", \"ninety\": \"ተስዓ\", \"hundred\": \"ሚእቲ\",\n",
    "    \"thousand\": \"ሽህ\",\"million\": \"ሚሊየን\", \"billion\": \"ቢልየን\", \"trillion\": \"ትሪልየን\",\n",
    "    '': 0, '፩': 1, '፪': 2, '፫': 3, '፬': 4, '፭': 5, '፮': 6, '፯': 7, '፰': 8, '፱': 9,'፲': 10, '፳': 20, '፴': 30, '፵': 40, \n",
    "    '፶': 50, '፷': 60, '፸': 70, '፹': 80, '፺': 90,'፻': 100, '፼': 10000   \n",
    "}\n",
    "\n",
    "def convert_geez_to_tigrigna (geez_numeral_input):\n",
    "    geez_numeral = geez_numeral_input\n",
    "    if geez_numeral[0] == \"፼\": geez_numeral = \"፩\" + geez_numeral\n",
    "    thousands_list = re.split('፼', geez_numeral)\n",
    "    arabic_numeral = 0\n",
    "    no_of_ten_thousands = geez_numeral.count(\"፼\")\n",
    "    for thousand in thousands_list:\n",
    "        if thousand != '' and thousand[0] == \"፻\": thousand = \"፩\" + thousand\n",
    "        arabic_numeral += pow(10000, no_of_ten_thousands) * thousands_digit_to_arabic(thousand)\n",
    "        no_of_ten_thousands -= 1 \n",
    "    english_word = num2words(arabic_numeral)\n",
    "    translate_and_display_results (english_word, geez_numeral_input)\n",
    "    return\n",
    "\n",
    "def thousands_digit_to_arabic(thousand):\n",
    "    if '፻' not in thousand: return tens_digit_to_arabic(thousand) \n",
    "    hundred = re.split('፻', thousand)\n",
    "    return (tens_digit_to_arabic(re.split('፻', thousand)[0]) * 100) + tens_digit_to_arabic(re.split('፻', thousand)[1])\n",
    "def tens_digit_to_arabic(hundred):\n",
    "    if len(hundred) == 0: return 0\n",
    "    elif len(hundred) == 1: return english_to_tigrigna_corpus[hundred]\n",
    "    elif len(hundred) == 2: return english_to_tigrigna_corpus[hundred[0]] + english_to_tigrigna_corpus[hundred[1]]\n",
    "        \n",
    "def translate_and_display_results (english_word, geez_numeral):\n",
    "    english_words_list = word_tokenize(english_word.replace(\",\", \"\").replace(\"-\", \" \"))\n",
    "    tigrigna_words_list = [english_to_tigrigna_corpus[word] for word in english_words_list if word != 'and']\n",
    "    print('Ethiopic numeral: ' + geez_numeral)    \n",
    "    print('English word: ' + english_word)\n",
    "    print('Tigrigna word: ' + \"፣\".join(tigrigna_words_list) + '\\n===========================================================================================')\n",
    "\n",
    "convert_geez_to_tigrigna('፼፱፻፶፫፼፵፪፻፵፭፼፳፫፻፵፭')\n",
    "convert_geez_to_tigrigna('፼፳፫፻፵፭')\n",
    "convert_geez_to_tigrigna('፵፭')\n",
    "convert_geez_to_tigrigna('፻፼')\n",
    "convert_geez_to_tigrigna('፳፻፲፮')"
   ]
  },
  {
   "cell_type": "code",
   "execution_count": null,
   "id": "2fed6425-2cf8-41e0-8edc-1792ef8c39e7",
   "metadata": {},
   "outputs": [],
   "source": []
  },
  {
   "cell_type": "code",
   "execution_count": null,
   "id": "00a4367b-360f-4473-8fe7-22301719c4f1",
   "metadata": {},
   "outputs": [],
   "source": []
  }
 ],
 "metadata": {
  "kernelspec": {
   "display_name": "Python 3 (ipykernel)",
   "language": "python",
   "name": "python3"
  },
  "language_info": {
   "codemirror_mode": {
    "name": "ipython",
    "version": 3
   },
   "file_extension": ".py",
   "mimetype": "text/x-python",
   "name": "python",
   "nbconvert_exporter": "python",
   "pygments_lexer": "ipython3",
   "version": "3.11.5"
  }
 },
 "nbformat": 4,
 "nbformat_minor": 5
}
